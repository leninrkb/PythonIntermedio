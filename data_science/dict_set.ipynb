{
 "cells": [
  {
   "cell_type": "code",
   "execution_count": 2,
   "metadata": {},
   "outputs": [
    {
     "name": "stdout",
     "output_type": "stream",
     "text": [
      "{'sana': 'Sana Sunomiya', 'lenin': 'Lenin Acosta', 'kazane': 'Kazane Hiyori'}\n"
     ]
    }
   ],
   "source": [
    "dic = {}\n",
    "dic['sana'] = 'Sana Sunomiya'\n",
    "dic['lenin'] = 'Lenin Acosta'\n",
    "dic['kazane'] = 'Kazane Hiyori'\n",
    "print(dic)"
   ]
  },
  {
   "cell_type": "code",
   "execution_count": 6,
   "metadata": {},
   "outputs": [
    {
     "name": "stdout",
     "output_type": "stream",
     "text": [
      "dict_keys(['sana', 'lenin', 'kazane'])\n",
      "dict_values(['Sana Sunomiya', 'Lenin Acosta', 'Kazane Hiyori'])\n",
      "dict_items([('sana', 'Sana Sunomiya'), ('lenin', 'Lenin Acosta'), ('kazane', 'Kazane Hiyori')])\n",
      "sana is Sana Sunomiya\n",
      "lenin is Lenin Acosta\n",
      "kazane is Kazane Hiyori\n"
     ]
    }
   ],
   "source": [
    "print(dic.keys())\n",
    "print(dic.values())\n",
    "print(dic.items())\n",
    "for k, v in dic.items():\n",
    "    print(f'{k} is {v}')"
   ]
  },
  {
   "cell_type": "code",
   "execution_count": 7,
   "metadata": {},
   "outputs": [
    {
     "name": "stdout",
     "output_type": "stream",
     "text": [
      "{'sana': 'Sana Sunomiya', 'kazane': 'Kazane Hiyori'}\n"
     ]
    }
   ],
   "source": [
    "del dic['lenin']\n",
    "print(dic)"
   ]
  },
  {
   "cell_type": "code",
   "execution_count": 13,
   "metadata": {},
   "outputs": [
    {
     "name": "stdout",
     "output_type": "stream",
     "text": [
      "neins\n"
     ]
    }
   ],
   "source": [
    "# print(dic['lenin']) # throws error\n",
    "print(dic.get('lenin', 'neins')) # return None or default"
   ]
  },
  {
   "cell_type": "code",
   "execution_count": 22,
   "metadata": {},
   "outputs": [
    {
     "name": "stdout",
     "output_type": "stream",
     "text": [
      "['cuenta', 'un', 'cuento', 'que', 'una', 'princesa', 'caminaba', 'por', 'un', 'cuenco', 'cuenta', 'el', 'cuento', 'que', 'la', 'princesa', 'se', 'cayo', 'mientras', 'leia', 'un', 'cuento', 'cuando', 'caminaba', 'por', 'un', 'cuenco']\n",
      "cuenta is 2\n",
      "un is 4\n",
      "cuento is 3\n",
      "que is 2\n",
      "una is 1\n",
      "princesa is 2\n",
      "caminaba is 2\n",
      "por is 2\n",
      "cuenco is 2\n",
      "el is 1\n",
      "la is 1\n",
      "se is 1\n",
      "cayo is 1\n",
      "mientras is 1\n",
      "leia is 1\n",
      "cuando is 1\n"
     ]
    }
   ],
   "source": [
    "text = ('cuenta un cuento que una princesa caminaba por un cuenco '\n",
    "'cuenta el cuento que la princesa se cayo mientras leia un cuento '\n",
    "'cuando caminaba por un cuenco')\n",
    "words = text.split(' ')\n",
    "print(words)\n",
    "dic = {}\n",
    "for w in words:\n",
    "    if w in dic:\n",
    "        dic[w] += 1\n",
    "    else:\n",
    "        dic[w] = 1\n",
    "for k, v in dic.items():\n",
    "    print(f'{k} is {v}')"
   ]
  },
  {
   "cell_type": "code",
   "execution_count": 29,
   "metadata": {},
   "outputs": [
    {
     "name": "stdout",
     "output_type": "stream",
     "text": [
      "[0, 1, 2, 3, 4, 5, 6, 7, 8, 9]\n",
      "{0, 1, 2, 3, 4, 5, 6, 7, 8, 9}\n",
      "{5, 6, 7, 8, 9, 10, 11, 12, 13, 14}\n",
      "{5, 6, 7, 8, 9}\n",
      "{5, 6, 7, 8, 9}\n"
     ]
    }
   ],
   "source": [
    "lista = list(range(10))\n",
    "print(lista)\n",
    "lista = set(lista)\n",
    "print(lista)\n",
    "lista2 = set(range(5, 15))\n",
    "print(lista2)\n",
    "print(lista.intersection(lista2))\n",
    "print(lista2.intersection(lista))"
   ]
  },
  {
   "cell_type": "code",
   "execution_count": 30,
   "metadata": {},
   "outputs": [
    {
     "name": "stdout",
     "output_type": "stream",
     "text": [
      "{1, 2, 3, 4, 5, 6, 7, 8, 9}\n"
     ]
    }
   ],
   "source": [
    "lista = [1, 2, 3, 4, 5, 4, 5, 3, 5, 4, 6, 8, 6, 7, 8, 9, 7, 8, 5, 6]\n",
    "print(set(lista))"
   ]
  }
 ],
 "metadata": {
  "kernelspec": {
   "display_name": "ia",
   "language": "python",
   "name": "python3"
  },
  "language_info": {
   "codemirror_mode": {
    "name": "ipython",
    "version": 3
   },
   "file_extension": ".py",
   "mimetype": "text/x-python",
   "name": "python",
   "nbconvert_exporter": "python",
   "pygments_lexer": "ipython3",
   "version": "3.12.4"
  }
 },
 "nbformat": 4,
 "nbformat_minor": 2
}
